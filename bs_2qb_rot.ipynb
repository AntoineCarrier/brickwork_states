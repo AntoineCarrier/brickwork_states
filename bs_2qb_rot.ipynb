{
 "cells": [
  {
   "cell_type": "code",
   "execution_count": 1,
   "id": "7ac5d384-b606-48fb-9371-8d6508eca140",
   "metadata": {},
   "outputs": [],
   "source": [
    "import random\n",
    "import quimb as qu\n",
    "import quimb.tensor as qtn\n",
    "import numpy as np"
   ]
  },
  {
   "cell_type": "code",
   "execution_count": 2,
   "id": "7b9b6caf-0f09-4843-95d4-228f5c502a51",
   "metadata": {},
   "outputs": [],
   "source": [
    "N = 2\n",
    "circ = qtn.Circuit(N)"
   ]
  },
  {
   "cell_type": "code",
   "execution_count": 3,
   "id": "2a11a07d-288b-4008-9282-24469b053f86",
   "metadata": {},
   "outputs": [],
   "source": [
    "def brickwork_state_init(qtm_circ):\n",
    "    # hamadard on all of the qubits\n",
    "    for i in range(2):\n",
    "        qtm_circ.apply_gate('H', i)\n",
    "        print(np.round(circ.psi.to_qarray(), 10))\n",
    "    # create the entanglement for the brickwork state\n",
    "    qtm_circ.apply_gate('CZ', 0, 1)\n",
    "    return qtm_circ\n",
    "# initiate brickwork state"
   ]
  },
  {
   "cell_type": "code",
   "execution_count": 4,
   "id": "cb2f9f18-94da-45b7-8633-5a57faf7a203",
   "metadata": {},
   "outputs": [
    {
     "name": "stdout",
     "output_type": "stream",
     "text": [
      "(array([0]), array([0]))\n"
     ]
    }
   ],
   "source": [
    "#circ.apply_gate('X',0) \n",
    "print(np.nonzero(np.round(circ.psi.to_qarray(), 10)))"
   ]
  },
  {
   "cell_type": "code",
   "execution_count": 5,
   "id": "b6073cef-2e80-4900-bde6-edfb951ceafd",
   "metadata": {},
   "outputs": [
    {
     "name": "stdout",
     "output_type": "stream",
     "text": [
      "[[1.+0.j]\n",
      " [0.+0.j]\n",
      " [0.+0.j]\n",
      " [0.+0.j]]\n"
     ]
    }
   ],
   "source": [
    "print(np.round(circ.psi.to_qarray(), 10))"
   ]
  },
  {
   "cell_type": "code",
   "execution_count": 6,
   "id": "c1da429e-6e19-4aa7-a8e4-181239a5309e",
   "metadata": {},
   "outputs": [
    {
     "name": "stdout",
     "output_type": "stream",
     "text": [
      "[[0.707107+0.j]\n",
      " [0.      +0.j]\n",
      " [0.707107+0.j]\n",
      " [0.      +0.j]]\n",
      "[[0.5+0.j]\n",
      " [0.5+0.j]\n",
      " [0.5+0.j]\n",
      " [0.5+0.j]]\n"
     ]
    }
   ],
   "source": [
    "circ = brickwork_state_init(circ)"
   ]
  },
  {
   "cell_type": "code",
   "execution_count": 7,
   "id": "c4568ce0-c5c2-493b-9a4e-e279fc430bac",
   "metadata": {},
   "outputs": [
    {
     "name": "stdout",
     "output_type": "stream",
     "text": [
      "[[ 0.5+0.j]\n",
      " [ 0.5+0.j]\n",
      " [ 0.5+0.j]\n",
      " [-0.5+0.j]]\n"
     ]
    }
   ],
   "source": [
    "print(np.round(circ.psi.to_qarray(), 10))"
   ]
  },
  {
   "cell_type": "code",
   "execution_count": 8,
   "id": "d68ece15-807e-463f-a323-b336362ca9bc",
   "metadata": {},
   "outputs": [],
   "source": [
    "fh = np.matmul(np.array([[1, 1], [1,-1]]), np.array([[1, 0], [0,0]]))\n",
    "sh = np.matmul(fh, np.array([[1, 1], [1,-1]]))\n",
    "proj = 1/2 * sh\n",
    "def rotation_z_gate(theta):\n",
    "    rot_z = np.array([[np.exp(-1j*theta), 0],[0, np.exp(1j*theta)]])\n",
    "    return rot_z\n",
    "\n",
    "def z_rot_proj_meas(qubit, theta, qtm_circ):\n",
    "    # change basis\n",
    "    #irc.apply_gate('H', qubit)\n",
    "    z_rot = rotation_z_gate(theta)\n",
    "\n",
    "    #qtm_circ.apply_gate(z_rot, qubit)\n",
    "    qtm_circ.apply_gate(proj, qubit)\n",
    "    print(qubit)\n",
    "    print(z_rot)\n",
    "    # renormalize\n",
    "    state_vector = np.round(qtm_circ.psi.to_qarray(), 10)\n",
    "    renorm_factor = np.sqrt(np.dot(state_vector.conj().T, state_vector))\n",
    "    print(renorm_factor)\n",
    "    renorm_matrix = np.array([[1, 0], [0, 1]])* 1/renorm_factor\n",
    "    qtm_circ.apply_gate(renorm_matrix, qubit)\n",
    "    \n",
    "    "
   ]
  },
  {
   "cell_type": "code",
   "execution_count": 9,
   "id": "3da3edd8-5625-427e-88e1-bbc531912f45",
   "metadata": {},
   "outputs": [
    {
     "name": "stdout",
     "output_type": "stream",
     "text": [
      "0\n",
      "[[1.+0.j 0.+0.j]\n",
      " [0.+0.j 1.+0.j]]\n",
      "[[0.707107+0.j]]\n"
     ]
    }
   ],
   "source": [
    "for i in range(1):\n",
    "    z_rot_proj_meas(i, 0, circ)"
   ]
  },
  {
   "cell_type": "code",
   "execution_count": 10,
   "id": "6a97ae73-9e04-4658-bf0c-c69c7eb47cf6",
   "metadata": {},
   "outputs": [
    {
     "name": "stdout",
     "output_type": "stream",
     "text": [
      "(array([0, 2]), array([0, 0]))\n"
     ]
    }
   ],
   "source": [
    " print(np.nonzero(np.round(circ.psi.to_qarray(), 10)))"
   ]
  },
  {
   "cell_type": "code",
   "execution_count": 11,
   "id": "08217fbf-f937-44e2-a80e-79f739ecdb2c",
   "metadata": {},
   "outputs": [
    {
     "name": "stdout",
     "output_type": "stream",
     "text": [
      "[[0.707107+0.j]\n",
      " [0.      +0.j]\n",
      " [0.707107+0.j]\n",
      " [0.      +0.j]]\n"
     ]
    }
   ],
   "source": [
    "print(np.round(circ.psi.to_qarray(), 10))"
   ]
  },
  {
   "cell_type": "code",
   "execution_count": 12,
   "id": "e64c830f-f614-46d7-ad0c-6ea4257fc010",
   "metadata": {},
   "outputs": [
    {
     "name": "stdout",
     "output_type": "stream",
     "text": [
      "[[ 1.+0.j]\n",
      " [ 0.+0.j]\n",
      " [-0.+0.j]\n",
      " [-0.+0.j]]\n"
     ]
    }
   ],
   "source": [
    "circ.apply_gate('H', 0)\n",
    "print(np.round(circ.psi.to_qarray(), 10))"
   ]
  }
 ],
 "metadata": {
  "kernelspec": {
   "display_name": "Python 3 (ipykernel)",
   "language": "python",
   "name": "python3"
  },
  "language_info": {
   "codemirror_mode": {
    "name": "ipython",
    "version": 3
   },
   "file_extension": ".py",
   "mimetype": "text/x-python",
   "name": "python",
   "nbconvert_exporter": "python",
   "pygments_lexer": "ipython3",
   "version": "3.12.5"
  }
 },
 "nbformat": 4,
 "nbformat_minor": 5
}
