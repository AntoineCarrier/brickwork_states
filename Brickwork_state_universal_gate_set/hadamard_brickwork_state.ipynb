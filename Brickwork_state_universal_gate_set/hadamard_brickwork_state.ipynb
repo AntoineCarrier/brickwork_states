{
 "cells": [
  {
   "cell_type": "code",
   "id": "79c0cd04-0c38-464f-aa1f-3823b9e4b4c2",
   "metadata": {
    "ExecuteTime": {
     "end_time": "2025-07-30T16:10:16.447871Z",
     "start_time": "2025-07-30T16:10:16.445043Z"
    }
   },
   "source": [
    "import quimb.tensor as qtn\n",
    "import numpy as np\n"
   ],
   "outputs": [],
   "execution_count": 8
  },
  {
   "cell_type": "code",
   "id": "fe1483e9-df71-4804-94ed-938637fe6086",
   "metadata": {
    "ExecuteTime": {
     "end_time": "2025-07-30T16:10:16.456932Z",
     "start_time": "2025-07-30T16:10:16.454625Z"
    }
   },
   "source": [
    "N = 10\n",
    "circ = qtn.Circuit(N)"
   ],
   "outputs": [],
   "execution_count": 9
  },
  {
   "cell_type": "code",
   "id": "ba7bc337-9221-4bfd-a230-34c127e7717d",
   "metadata": {
    "ExecuteTime": {
     "end_time": "2025-07-30T16:10:16.460953Z",
     "start_time": "2025-07-30T16:10:16.458264Z"
    }
   },
   "source": [
    "def brickwork_state_init(qtm_circ):\n",
    "    for i in [1, 2, 3, 4, 6, 7, 8, 9]:\n",
    "        qtm_circ.apply_gate('H', i)\n",
    "    # create the entanglement for the brickwork state\n",
    "    circ.apply_gate('CZ', 0, 1)\n",
    "    circ.apply_gate('CZ', 1, 2)\n",
    "    circ.apply_gate('CZ', 2, 3)\n",
    "    circ.apply_gate('CZ', 3, 4)\n",
    "    \n",
    "    circ.apply_gate('CZ', 5, 6)\n",
    "    circ.apply_gate('CZ', 6, 7)\n",
    "    circ.apply_gate('CZ', 7, 8)\n",
    "    circ.apply_gate('CZ', 8, 9)\n",
    "\n",
    "    circ.apply_gate('CZ', 2, 7)\n",
    "    circ.apply_gate('CZ', 4, 9)\n",
    "    return qtm_circ\n"
   ],
   "outputs": [],
   "execution_count": 10
  },
  {
   "cell_type": "code",
   "id": "2d4768a9-3cd3-41e8-bf87-c0d6bc9522b5",
   "metadata": {
    "ExecuteTime": {
     "end_time": "2025-07-30T16:10:16.467201Z",
     "start_time": "2025-07-30T16:10:16.461765Z"
    }
   },
   "source": [
    "circ.apply_gate('X',0)\n",
    "circ.apply_gate('X',5)\n",
    "circ = brickwork_state_init(circ)"
   ],
   "outputs": [],
   "execution_count": 11
  },
  {
   "cell_type": "code",
   "id": "7cefc677-1948-4289-a4f8-f04c3b939a35",
   "metadata": {
    "ExecuteTime": {
     "end_time": "2025-07-30T16:10:16.471518Z",
     "start_time": "2025-07-30T16:10:16.468493Z"
    }
   },
   "source": [
    "hadamard_zeroket_zerobra = np.matmul(np.array([[1, 1], [1,-1]]), np.array([[1, 0], [0, 0]]))\n",
    "hadamard_zeroket_zerobra_hadmard = np.matmul(hadamard_zeroket_zerobra, np.array([[1, 1], [1,-1]]))\n",
    "proj = 1/2 * hadamard_zeroket_zerobra_hadmard \n",
    "\n",
    "def rotation_z_gate(theta):\n",
    "    rot_z = np.array([[np.exp(-1j*theta), 0],[0, np.exp(1j*theta)]])\n",
    "    return rot_z\n",
    "\n",
    "def z_rot_proj_meas(qubit, theta, qtm_circ):\n",
    "    # change basis \n",
    "    #circ.apply_gate('H', qubit)\n",
    "    z_rot = rotation_z_gate(theta)\n",
    "\n",
    "    #z_rot_proj = np.matmul(z_rot, np.matmul(proj, z_rot.conjugate()))\n",
    "    #print(proj)\n",
    "        \n",
    "    qtm_circ.apply_gate(z_rot, qubit)\n",
    "    qtm_circ.apply_gate(proj, qubit)\n",
    "    print(qubit)\n",
    "    print(z_rot)\n",
    "    # renormalize\n",
    "    state_vector = np.round(qtm_circ.psi.to_qarray(), 10)\n",
    "    renorm_factor = np.sqrt(np.dot(state_vector.conj().T, state_vector))\n",
    "    print(renorm_factor)\n",
    "    renorm_matrix = np.array([[1, 0], [0, 1]])* 1/renorm_factor\n",
    "    qtm_circ.apply_gate(renorm_matrix, qubit)"
   ],
   "outputs": [],
   "execution_count": 12
  },
  {
   "cell_type": "code",
   "id": "ecb7c64e-7b9c-47dd-9600-65df7e932108",
   "metadata": {
    "ExecuteTime": {
     "end_time": "2025-07-30T16:10:16.484610Z",
     "start_time": "2025-07-30T16:10:16.472153Z"
    }
   },
   "source": [
    "z_rot_proj_meas(0, np.pi/4, circ)\n",
    "z_rot_proj_meas(5, 0, circ)\n",
    "z_rot_proj_meas(1, np.pi/4, circ)\n",
    "z_rot_proj_meas(6, 0, circ)\n",
    "z_rot_proj_meas(2, np.pi/4, circ)\n",
    "z_rot_proj_meas(7, 0, circ)\n",
    "for qubit in [3, 8]:\n",
    "    z_rot_proj_meas(qubit, 0, circ)"
   ],
   "outputs": [
    {
     "name": "stdout",
     "output_type": "stream",
     "text": [
      "0\n",
      "[[0.70710678-0.70710678j 0.        +0.j        ]\n",
      " [0.        +0.j         0.70710678+0.70710678j]]\n",
      "[[0.707107+0.j]]\n",
      "5\n",
      "[[1.+0.j 0.+0.j]\n",
      " [0.+0.j 1.+0.j]]\n",
      "[[0.707107+0.j]]\n",
      "1\n",
      "[[0.70710678-0.70710678j 0.        +0.j        ]\n",
      " [0.        +0.j         0.70710678+0.70710678j]]\n",
      "[[0.707107+0.j]]\n",
      "6\n",
      "[[1.+0.j 0.+0.j]\n",
      " [0.+0.j 1.+0.j]]\n",
      "[[0.707107+0.j]]\n",
      "2\n",
      "[[0.70710678-0.70710678j 0.        +0.j        ]\n",
      " [0.        +0.j         0.70710678+0.70710678j]]\n",
      "[[0.707107+0.j]]\n",
      "7\n",
      "[[1.+0.j 0.+0.j]\n",
      " [0.+0.j 1.+0.j]]\n",
      "[[0.707107+0.j]]\n",
      "3\n",
      "[[1.+0.j 0.+0.j]\n",
      " [0.+0.j 1.+0.j]]\n",
      "[[0.707107+0.j]]\n",
      "8\n",
      "[[1.+0.j 0.+0.j]\n",
      " [0.+0.j 1.+0.j]]\n",
      "[[0.707107+0.j]]\n"
     ]
    }
   ],
   "execution_count": 13
  },
  {
   "cell_type": "code",
   "id": "1a1c6f3f-e5ed-4efe-aec1-46e28b7575b4",
   "metadata": {
    "ExecuteTime": {
     "end_time": "2025-07-30T16:10:16.490593Z",
     "start_time": "2025-07-30T16:10:16.485216Z"
    }
   },
   "source": [
    "#for i in range(10):\n",
    "    #circ.apply_gate('H', i)\n",
    "for i in [0, 5, 1, 6, 2, 7, 3, 8]:\n",
    "    circ.apply_gate('H', i)\n",
    "\n",
    "list = np.nonzero(np.round(circ.psi.to_qarray(), 10))\n",
    "\n",
    "sv =np.round(np.exp(-3j * np.pi/2)*circ.psi.to_qarray(), 10)\n",
    "print(list[0], len(sv))\n",
    "for i in list[0]:\n",
    "    print(sv[i])"
   ],
   "outputs": [
    {
     "name": "stdout",
     "output_type": "stream",
     "text": [
      "[ 1 33] 1024\n",
      "[0.707107+0.j]\n",
      "[-0.707107+0.j]\n"
     ]
    }
   ],
   "execution_count": 14
  }
 ],
 "metadata": {
  "kernelspec": {
   "display_name": "Python 3 (ipykernel)",
   "language": "python",
   "name": "python3"
  },
  "language_info": {
   "codemirror_mode": {
    "name": "ipython",
    "version": 3
   },
   "file_extension": ".py",
   "mimetype": "text/x-python",
   "name": "python",
   "nbconvert_exporter": "python",
   "pygments_lexer": "ipython3",
   "version": "3.12.5"
  }
 },
 "nbformat": 4,
 "nbformat_minor": 5
}
