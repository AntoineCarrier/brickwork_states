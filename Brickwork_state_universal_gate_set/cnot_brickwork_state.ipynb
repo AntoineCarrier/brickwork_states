{
 "cells": [
  {
   "cell_type": "code",
   "execution_count": 1,
   "id": "79c0cd04-0c38-464f-aa1f-3823b9e4b4c2",
   "metadata": {},
   "outputs": [],
   "source": [
    "import random\n",
    "import quimb as qu\n",
    "import quimb.tensor as qtn\n",
    "import numpy as np"
   ]
  },
  {
   "cell_type": "code",
   "execution_count": 2,
   "id": "fe1483e9-df71-4804-94ed-938637fe6086",
   "metadata": {},
   "outputs": [],
   "source": [
    "N = 10\n",
    "circ = qtn.Circuit(N)"
   ]
  },
  {
   "cell_type": "code",
   "execution_count": 3,
   "id": "ba7bc337-9221-4bfd-a230-34c127e7717d",
   "metadata": {},
   "outputs": [],
   "source": [
    "def brickwork_state_init(qtm_circ):\n",
    "    # hamadard on all of the qubits\n",
    "    for i in [1, 2, 3, 4, 6, 7, 8, 9]:\n",
    "        qtm_circ.apply_gate('H', i)\n",
    "        #print(np.round(circ.psi.to_qarray(), 10))\n",
    "    # create the entanglement for the brickwork state\n",
    "    circ.apply_gate('CZ', 0, 1)\n",
    "    circ.apply_gate('CZ', 1, 2)\n",
    "    circ.apply_gate('CZ', 2, 3)\n",
    "    circ.apply_gate('CZ', 3, 4)\n",
    "    \n",
    "    circ.apply_gate('CZ', 5, 6)\n",
    "    circ.apply_gate('CZ', 6, 7)\n",
    "    circ.apply_gate('CZ', 7, 8)\n",
    "    circ.apply_gate('CZ', 8, 9)\n",
    "\n",
    "    circ.apply_gate('CZ', 2, 7)\n",
    "    circ.apply_gate('CZ', 4, 9)\n",
    "    return qtm_circ\n"
   ]
  },
  {
   "cell_type": "code",
   "execution_count": 4,
   "id": "2d4768a9-3cd3-41e8-bf87-c0d6bc9522b5",
   "metadata": {},
   "outputs": [],
   "source": [
    "circ.apply_gate('X',0)\n",
    "circ.apply_gate('X',5)\n",
    "circ = brickwork_state_init(circ)"
   ]
  },
  {
   "cell_type": "code",
   "execution_count": 5,
   "id": "7cefc677-1948-4289-a4f8-f04c3b939a35",
   "metadata": {},
   "outputs": [],
   "source": [
    "fh = np.matmul(np.array([[1, 1], [1,-1]]), np.array([[1, 0], [0,0]]))\n",
    "sh = np.matmul(fh, np.array([[1, 1], [1,-1]]))\n",
    "proj = 1/2 * sh\n",
    "\n",
    "def rotation_z_gate(theta):\n",
    "    rot_z = np.array([[np.exp(-1j*theta), 0],[0, np.exp(1j*theta)]])\n",
    "    return rot_z\n",
    "\n",
    "def z_rot_proj_meas(qubit, theta, qtm_circ):\n",
    "    # change basis \n",
    " \n",
    "    \n",
    "    z_rot = rotation_z_gate(theta)\n",
    "\n",
    "    #z_rot_proj = np.matmul(z_rot, np.matmul(proj, z_rot.conjugate()))\n",
    "    #print(proj)\n",
    "        \n",
    "    qtm_circ.apply_gate(z_rot, qubit)\n",
    "    qtm_circ.apply_gate(proj, qubit)\n",
    "    print(qubit)\n",
    "    # renormalize\n",
    "    state_vector = np.round(qtm_circ.psi.to_qarray(), 10)\n",
    "    renorm_factor = np.sqrt(np.dot(state_vector.conj().T, state_vector))\n",
    "    print(renorm_factor)\n",
    "    renorm_matrix = np.array([[1, 0], [0, 1]])* 1/renorm_factor\n",
    "    qtm_circ.apply_gate(renorm_matrix, qubit)\n",
    "\n"
   ]
  },
  {
   "cell_type": "code",
   "execution_count": 6,
   "id": "ecb7c64e-7b9c-47dd-9600-65df7e932108",
   "metadata": {},
   "outputs": [
    {
     "name": "stdout",
     "output_type": "stream",
     "text": [
      "0\n",
      "[[0.707107+0.j]]\n",
      "5\n",
      "[[0.707107+0.j]]\n",
      "1\n",
      "[[0.707107+0.j]]\n",
      "6\n",
      "[[0.707107+0.j]]\n",
      "2\n",
      "[[0.707107+0.j]]\n",
      "7\n",
      "[[0.707107+0.j]]\n",
      "3\n",
      "[[0.707107+0.j]]\n",
      "8\n",
      "[[0.707107+0.j]]\n"
     ]
    }
   ],
   "source": [
    "z_rot_proj_meas(0, 0, circ)\n",
    "z_rot_proj_meas(5, 0, circ)\n",
    "z_rot_proj_meas(1, 0, circ)\n",
    "z_rot_proj_meas(6, np.pi/4, circ)\n",
    "z_rot_proj_meas(2, np.pi/4, circ)\n",
    "z_rot_proj_meas(7, 0, circ)\n",
    "z_rot_proj_meas(3, 0, circ)\n",
    "z_rot_proj_meas(8, -np.pi/4, circ)"
   ]
  },
  {
   "cell_type": "code",
   "execution_count": 7,
   "id": "662bb8b4-eb6a-485f-a57e-b13274be66cf",
   "metadata": {},
   "outputs": [
    {
     "name": "stdout",
     "output_type": "stream",
     "text": [
      "(array([32]), array([0]))\n",
      "[1.-0.j]\n"
     ]
    }
   ],
   "source": [
    "for i in [0, 5, 1, 6, 2, 7, 3, 8]:\n",
    "    circ.apply_gate('H', i)\n",
    "\n",
    "\n",
    "print(np.nonzero(np.round(circ.psi.to_qarray(), 10)))\n",
    "\n",
    "list = np.nonzero(np.exp(7*np.pi/4j)*np.round(circ.psi.to_qarray(), 10))\n",
    "\n",
    "sv = np.round(np.exp(7*np.pi/4j)*circ.psi.to_qarray(), 10)\n",
    "for i in list[0]:\n",
    "    print(sv[i])\n"
   ]
  }
 ],
 "metadata": {
  "kernelspec": {
   "display_name": "Python 3 (ipykernel)",
   "language": "python",
   "name": "python3"
  },
  "language_info": {
   "codemirror_mode": {
    "name": "ipython",
    "version": 3
   },
   "file_extension": ".py",
   "mimetype": "text/x-python",
   "name": "python",
   "nbconvert_exporter": "python",
   "pygments_lexer": "ipython3",
   "version": "3.12.5"
  }
 },
 "nbformat": 4,
 "nbformat_minor": 5
}
