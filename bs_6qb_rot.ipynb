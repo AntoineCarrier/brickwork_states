{
 "cells": [
  {
   "cell_type": "code",
   "execution_count": 1,
   "id": "79c0cd04-0c38-464f-aa1f-3823b9e4b4c2",
   "metadata": {},
   "outputs": [],
   "source": [
    "import random\n",
    "import quimb as qu\n",
    "import quimb.tensor as qtn\n",
    "import numpy as np\n"
   ]
  },
  {
   "cell_type": "code",
   "execution_count": 2,
   "id": "fe1483e9-df71-4804-94ed-938637fe6086",
   "metadata": {},
   "outputs": [],
   "source": [
    "N = 6\n",
    "circ = qtn.Circuit(N)"
   ]
  },
  {
   "cell_type": "code",
   "execution_count": 3,
   "id": "ba7bc337-9221-4bfd-a230-34c127e7717d",
   "metadata": {},
   "outputs": [],
   "source": [
    "def brickwork_state_init(qtm_circ):\n",
    "    # hamadard on all of the qubits\n",
    "    for i in [1, 2, 4, 5]:\n",
    "        qtm_circ.apply_gate('H', i)\n",
    "        #print(np.round(circ.psi.to_qarray(), 10))\n",
    "    # create the entanglement for the brickwork state\n",
    "    circ.apply_gate('CZ', 0, 1)\n",
    "    circ.apply_gate('CZ', 3, 4)\n",
    "    circ.apply_gate('CZ', 1, 2)\n",
    "    circ.apply_gate('CZ', 4, 5)\n",
    "    circ.apply_gate('CZ', 0, 3)\n",
    "    circ.apply_gate('CZ', 2, 5)\n",
    "    return qtm_circ\n",
    "# initiate brickwork state"
   ]
  },
  {
   "cell_type": "code",
   "execution_count": 4,
   "id": "2d4768a9-3cd3-41e8-bf87-c0d6bc9522b5",
   "metadata": {},
   "outputs": [],
   "source": [
    "#circ.apply_gate('X',0)\n",
    "#circ.apply_gate('X',3)\n",
    "circ = brickwork_state_init(circ)"
   ]
  },
  {
   "cell_type": "code",
   "execution_count": 5,
   "id": "7cefc677-1948-4289-a4f8-f04c3b939a35",
   "metadata": {},
   "outputs": [],
   "source": [
    "fh = np.matmul(np.array([[1, 1], [1,-1]]), np.array([[1, 0], [0, 0]]))\n",
    "sh = np.matmul(fh, np.array([[1, 1], [1,-1]]))\n",
    "proj = 1/2 * sh\n",
    "\n",
    "def rotation_z_gate(theta):\n",
    "    rot_z = np.array([[np.exp(-1j*theta), 0],[0, np.exp(1j*theta)]])\n",
    "    return rot_z\n",
    "\n",
    "def z_rot_proj_meas(qubit, theta, qtm_circ):\n",
    "    # change basis \n",
    "    #circ.apply_gate('H', qubit)\n",
    "    z_rot = rotation_z_gate(theta)\n",
    "\n",
    "    #z_rot_proj = np.matmul(z_rot, np.matmul(proj, z_rot.conjugate()))\n",
    "    #print(proj)\n",
    "        \n",
    "    #qtm_circ.apply_gate(z_rot, qubit)\n",
    "    qtm_circ.apply_gate(proj, qubit)\n",
    "    print(qubit)\n",
    "    print(z_rot)\n",
    "    # renormalize\n",
    "    state_vector = np.round(qtm_circ.psi.to_qarray(), 10)\n",
    "    renorm_factor = np.sqrt(np.dot(state_vector.conj().T, state_vector))\n",
    "    print(renorm_factor)\n",
    "    renorm_matrix = np.array([[1, 0], [0, 1]])* 1/renorm_factor\n",
    "    qtm_circ.apply_gate(renorm_matrix, qubit)"
   ]
  },
  {
   "cell_type": "code",
   "execution_count": 6,
   "id": "ecb7c64e-7b9c-47dd-9600-65df7e932108",
   "metadata": {},
   "outputs": [
    {
     "name": "stdout",
     "output_type": "stream",
     "text": [
      "0\n",
      "[[1.+0.j 0.+0.j]\n",
      " [0.+0.j 1.+0.j]]\n",
      "[[0.707107+0.j]]\n",
      "3\n",
      "[[1.+0.j 0.+0.j]\n",
      " [0.+0.j 1.+0.j]]\n",
      "[[0.707107+0.j]]\n",
      "1\n",
      "[[1.+0.j 0.+0.j]\n",
      " [0.+0.j 1.+0.j]]\n",
      "[[0.707107+0.j]]\n",
      "4\n",
      "[[1.+0.j 0.+0.j]\n",
      " [0.+0.j 1.+0.j]]\n",
      "[[0.707107+0.j]]\n"
     ]
    }
   ],
   "source": [
    "for qubit in [0, 3]:\n",
    "    z_rot_proj_meas(qubit, 0, circ)\n",
    "for qubit in [1, 4]:\n",
    "    z_rot_proj_meas(qubit, 0, circ)"
   ]
  },
  {
   "cell_type": "code",
   "execution_count": 7,
   "id": "bcd8d4e4-d446-468d-98c6-f7ee90f9b53e",
   "metadata": {},
   "outputs": [
    {
     "name": "stdout",
     "output_type": "stream",
     "text": [
      "(array([ 0,  2,  4,  6, 16, 18, 20, 22, 32, 34, 36, 38, 48, 50, 52, 54]), array([0, 0, 0, 0, 0, 0, 0, 0, 0, 0, 0, 0, 0, 0, 0, 0]))\n"
     ]
    }
   ],
   "source": [
    "print(np.nonzero(np.round(circ.psi.to_qarray(), 10)))"
   ]
  },
  {
   "cell_type": "code",
   "execution_count": 8,
   "id": "41f3c9dc-23da-4638-acb7-4ccedafe3180",
   "metadata": {},
   "outputs": [
    {
     "name": "stdout",
     "output_type": "stream",
     "text": [
      "[[ 0.25+0.j]\n",
      " [-0.  +0.j]\n",
      " [ 0.25+0.j]\n",
      " [-0.  +0.j]\n",
      " [ 0.25+0.j]\n",
      " [-0.  +0.j]\n",
      " [ 0.25+0.j]\n",
      " [-0.  +0.j]\n",
      " [-0.  +0.j]\n",
      " [-0.  +0.j]\n",
      " [-0.  +0.j]\n",
      " [-0.  +0.j]\n",
      " [-0.  +0.j]\n",
      " [-0.  +0.j]\n",
      " [-0.  +0.j]\n",
      " [-0.  +0.j]\n",
      " [ 0.25+0.j]\n",
      " [-0.  +0.j]\n",
      " [ 0.25+0.j]\n",
      " [-0.  +0.j]\n",
      " [ 0.25+0.j]\n",
      " [-0.  +0.j]\n",
      " [ 0.25+0.j]\n",
      " [-0.  +0.j]\n",
      " [-0.  +0.j]\n",
      " [-0.  +0.j]\n",
      " [-0.  +0.j]\n",
      " [-0.  +0.j]\n",
      " [-0.  +0.j]\n",
      " [-0.  +0.j]\n",
      " [-0.  +0.j]\n",
      " [-0.  +0.j]\n",
      " [ 0.25+0.j]\n",
      " [-0.  +0.j]\n",
      " [ 0.25+0.j]\n",
      " [-0.  +0.j]\n",
      " [ 0.25+0.j]\n",
      " [-0.  +0.j]\n",
      " [ 0.25+0.j]\n",
      " [-0.  +0.j]\n",
      " [-0.  +0.j]\n",
      " [-0.  +0.j]\n",
      " [-0.  +0.j]\n",
      " [-0.  +0.j]\n",
      " [-0.  +0.j]\n",
      " [-0.  +0.j]\n",
      " [-0.  +0.j]\n",
      " [-0.  +0.j]\n",
      " [ 0.25+0.j]\n",
      " [-0.  +0.j]\n",
      " [ 0.25+0.j]\n",
      " [-0.  +0.j]\n",
      " [ 0.25+0.j]\n",
      " [-0.  +0.j]\n",
      " [ 0.25+0.j]\n",
      " [-0.  +0.j]\n",
      " [-0.  +0.j]\n",
      " [-0.  +0.j]\n",
      " [-0.  +0.j]\n",
      " [-0.  +0.j]\n",
      " [-0.  +0.j]\n",
      " [-0.  +0.j]\n",
      " [-0.  +0.j]\n",
      " [-0.  +0.j]]\n"
     ]
    }
   ],
   "source": [
    "print(np.round(circ.psi.to_qarray(), 10))"
   ]
  },
  {
   "cell_type": "code",
   "execution_count": 9,
   "id": "662bb8b4-eb6a-485f-a57e-b13274be66cf",
   "metadata": {},
   "outputs": [
    {
     "name": "stdout",
     "output_type": "stream",
     "text": [
      "(array([0]), array([0]))\n",
      "[[ 1.+0.j]\n",
      " [-0.+0.j]\n",
      " [ 0.+0.j]\n",
      " [ 0.+0.j]\n",
      " [-0.+0.j]\n",
      " [-0.+0.j]\n",
      " [-0.+0.j]\n",
      " [-0.+0.j]\n",
      " [-0.+0.j]\n",
      " [-0.+0.j]\n",
      " [-0.+0.j]\n",
      " [-0.+0.j]\n",
      " [-0.+0.j]\n",
      " [ 0.+0.j]\n",
      " [-0.+0.j]\n",
      " [ 0.+0.j]\n",
      " [-0.+0.j]\n",
      " [ 0.+0.j]\n",
      " [-0.+0.j]\n",
      " [-0.+0.j]\n",
      " [ 0.+0.j]\n",
      " [ 0.+0.j]\n",
      " [ 0.+0.j]\n",
      " [ 0.+0.j]\n",
      " [-0.+0.j]\n",
      " [ 0.+0.j]\n",
      " [-0.+0.j]\n",
      " [ 0.+0.j]\n",
      " [ 0.+0.j]\n",
      " [-0.+0.j]\n",
      " [ 0.+0.j]\n",
      " [-0.+0.j]\n",
      " [ 0.+0.j]\n",
      " [-0.+0.j]\n",
      " [ 0.+0.j]\n",
      " [ 0.+0.j]\n",
      " [ 0.+0.j]\n",
      " [-0.+0.j]\n",
      " [ 0.+0.j]\n",
      " [ 0.+0.j]\n",
      " [-0.+0.j]\n",
      " [-0.+0.j]\n",
      " [-0.+0.j]\n",
      " [-0.+0.j]\n",
      " [-0.+0.j]\n",
      " [-0.+0.j]\n",
      " [-0.+0.j]\n",
      " [ 0.+0.j]\n",
      " [-0.+0.j]\n",
      " [ 0.+0.j]\n",
      " [-0.+0.j]\n",
      " [-0.+0.j]\n",
      " [-0.+0.j]\n",
      " [ 0.+0.j]\n",
      " [-0.+0.j]\n",
      " [-0.+0.j]\n",
      " [-0.+0.j]\n",
      " [-0.+0.j]\n",
      " [-0.+0.j]\n",
      " [ 0.+0.j]\n",
      " [-0.+0.j]\n",
      " [ 0.+0.j]\n",
      " [-0.+0.j]\n",
      " [ 0.+0.j]]\n"
     ]
    }
   ],
   "source": [
    "circ.apply_gate('H', 0)\n",
    "circ.apply_gate('H', 3)\n",
    "circ.apply_gate('H', 1)\n",
    "circ.apply_gate('H', 4)\n",
    "#circ.apply_gate('H', 2)\n",
    "#circ.apply_gate('H', 5)\n",
    "print(np.nonzero(np.round(circ.psi.to_qarray(), 10)))\n",
    "print(np.round(circ.psi.to_qarray(), 10))"
   ]
  }
 ],
 "metadata": {
  "kernelspec": {
   "display_name": "Python 3 (ipykernel)",
   "language": "python",
   "name": "python3"
  },
  "language_info": {
   "codemirror_mode": {
    "name": "ipython",
    "version": 3
   },
   "file_extension": ".py",
   "mimetype": "text/x-python",
   "name": "python",
   "nbconvert_exporter": "python",
   "pygments_lexer": "ipython3",
   "version": "3.12.5"
  }
 },
 "nbformat": 4,
 "nbformat_minor": 5
}
