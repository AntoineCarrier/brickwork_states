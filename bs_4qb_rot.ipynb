{
 "cells": [
  {
   "cell_type": "code",
   "execution_count": 1,
   "id": "79c0cd04-0c38-464f-aa1f-3823b9e4b4c2",
   "metadata": {},
   "outputs": [],
   "source": [
    "import random\n",
    "import quimb as qu\n",
    "import quimb.tensor as qtn\n",
    "import numpy as np"
   ]
  },
  {
   "cell_type": "code",
   "execution_count": 2,
   "id": "fe1483e9-df71-4804-94ed-938637fe6086",
   "metadata": {},
   "outputs": [],
   "source": [
    "N = 4\n",
    "circ = qtn.Circuit(N)"
   ]
  },
  {
   "cell_type": "code",
   "execution_count": 3,
   "id": "918b8350-d18d-4c4f-8383-6341af47d4e8",
   "metadata": {},
   "outputs": [],
   "source": [
    "circ.apply_gate('X',0)\n",
    "circ.apply_gate('X',2)"
   ]
  },
  {
   "cell_type": "code",
   "execution_count": 4,
   "id": "2e25581a-e440-4694-a769-dac5ee7a6641",
   "metadata": {},
   "outputs": [],
   "source": [
    "def brickwork_state_init(qtm_circ):\n",
    "    # hamadard on all of the qubits\n",
    "    for i in [1, 3]:\n",
    "        qtm_circ.apply_gate('H', i)\n",
    "        #print(np.round(circ.psi.to_qarray(), 10))\n",
    "    # create the entanglement for the brickwork state\n",
    "    qtm_circ.apply_gate('CZ', 0, 1)\n",
    "    qtm_circ.apply_gate('CZ', 2, 3)\n",
    "    qtm_circ.apply_gate('CZ', 1, 3)\n",
    "    return qtm_circ\n",
    "# initiate brickwork state"
   ]
  },
  {
   "cell_type": "code",
   "execution_count": 5,
   "id": "1795fbae-6504-4f4a-9eeb-115098e03343",
   "metadata": {},
   "outputs": [],
   "source": [
    "circ = brickwork_state_init(circ)"
   ]
  },
  {
   "cell_type": "code",
   "execution_count": 6,
   "id": "9fd9f372-8283-4fdd-8fcc-9953dae673bd",
   "metadata": {},
   "outputs": [],
   "source": [
    "fh = np.matmul(np.array([[1, 1], [1,-1]]), np.array([[1, 0], [0,0]]))\n",
    "sh = np.matmul(fh, np.array([[1, 1], [1,-1]]))\n",
    "proj = 1/2 * sh\n",
    "def rotation_z_gate(theta):\n",
    "    rot_z = np.array([[np.exp(-1j*theta), 0],[0, np.exp(1j*theta)]])\n",
    "    return rot_z\n",
    "\n",
    "def z_rot_proj_meas(qubit, theta, qtm_circ):\n",
    "    # change basis\n",
    "    #irc.apply_gate('H', qubit)\n",
    "    z_rot = rotation_z_gate(theta)\n",
    "\n",
    "    #qtm_circ.apply_gate(z_rot, qubit)\n",
    "    qtm_circ.apply_gate(proj, qubit)\n",
    "    print(qubit)\n",
    "    print(z_rot)\n",
    "    # renormalize\n",
    "    state_vector = np.round(qtm_circ.psi.to_qarray(), 10)\n",
    "    renorm_factor = np.sqrt(np.dot(state_vector.conj().T, state_vector))\n",
    "    print(renorm_factor)\n",
    "    renorm_matrix = np.array([[1, 0], [0, 1]])* 1/renorm_factor\n",
    "    qtm_circ.apply_gate(renorm_matrix, qubit)\n",
    "    "
   ]
  },
  {
   "cell_type": "code",
   "execution_count": 7,
   "id": "20137a6b-2afa-4b6e-b5e0-1e1e8b9e3197",
   "metadata": {},
   "outputs": [
    {
     "name": "stdout",
     "output_type": "stream",
     "text": [
      "0\n",
      "[[1.+0.j 0.+0.j]\n",
      " [0.+0.j 1.+0.j]]\n",
      "[[0.707107+0.j]]\n",
      "2\n",
      "[[1.+0.j 0.+0.j]\n",
      " [0.+0.j 1.+0.j]]\n",
      "[[0.707107+0.j]]\n"
     ]
    }
   ],
   "source": [
    "for qubit in [0, 2]:\n",
    "    z_rot_proj_meas(qubit, 0, circ)"
   ]
  },
  {
   "cell_type": "code",
   "execution_count": 8,
   "id": "fc93aea1-ae10-4bc0-87c3-2465eb6a4fc2",
   "metadata": {},
   "outputs": [
    {
     "name": "stdout",
     "output_type": "stream",
     "text": [
      "(array([ 0,  1,  2,  3,  4,  5,  6,  7,  8,  9, 10, 11, 12, 13, 14, 15]), array([0, 0, 0, 0, 0, 0, 0, 0, 0, 0, 0, 0, 0, 0, 0, 0]))\n"
     ]
    }
   ],
   "source": [
    "print(np.nonzero(np.round(circ.psi.to_qarray(), 10)))"
   ]
  },
  {
   "cell_type": "code",
   "execution_count": 9,
   "id": "4ddc6e89-0bb8-43bd-bcf6-b4fa45d98220",
   "metadata": {},
   "outputs": [
    {
     "name": "stdout",
     "output_type": "stream",
     "text": [
      "[[ 0.25+0.j]\n",
      " [-0.25+0.j]\n",
      " [ 0.25+0.j]\n",
      " [-0.25+0.j]\n",
      " [-0.25+0.j]\n",
      " [-0.25+0.j]\n",
      " [-0.25+0.j]\n",
      " [-0.25+0.j]\n",
      " [ 0.25+0.j]\n",
      " [-0.25+0.j]\n",
      " [ 0.25+0.j]\n",
      " [-0.25+0.j]\n",
      " [-0.25+0.j]\n",
      " [-0.25+0.j]\n",
      " [-0.25+0.j]\n",
      " [-0.25+0.j]]\n"
     ]
    }
   ],
   "source": [
    "print(np.round(circ.psi.to_qarray(), 10))"
   ]
  },
  {
   "cell_type": "code",
   "execution_count": 10,
   "id": "bfe03868-c5bd-4c5b-bf0e-b2e11606bb75",
   "metadata": {},
   "outputs": [
    {
     "name": "stdout",
     "output_type": "stream",
     "text": [
      "(array([0, 1, 4, 5]), array([0, 0, 0, 0]))\n",
      "[[ 0.5+0.j]\n",
      " [-0.5+0.j]\n",
      " [ 0. +0.j]\n",
      " [-0. +0.j]\n",
      " [-0.5+0.j]\n",
      " [-0.5+0.j]\n",
      " [-0. +0.j]\n",
      " [-0. +0.j]\n",
      " [-0. +0.j]\n",
      " [ 0. +0.j]\n",
      " [-0. +0.j]\n",
      " [ 0. +0.j]\n",
      " [ 0. +0.j]\n",
      " [ 0. +0.j]\n",
      " [ 0. +0.j]\n",
      " [ 0. +0.j]]\n"
     ]
    }
   ],
   "source": [
    "#circ.apply_gate('H', 1)\n",
    "#circ.apply_gate('H', 3)\n",
    "circ.apply_gate('H', 0)\n",
    "circ.apply_gate('H', 2)\n",
    "\n",
    "print(np.nonzero(np.round(circ.psi.to_qarray(), 10)))\n",
    "print(np.round(circ.psi.to_qarray(), 10))"
   ]
  }
 ],
 "metadata": {
  "kernelspec": {
   "display_name": "Python 3 (ipykernel)",
   "language": "python",
   "name": "python3"
  },
  "language_info": {
   "codemirror_mode": {
    "name": "ipython",
    "version": 3
   },
   "file_extension": ".py",
   "mimetype": "text/x-python",
   "name": "python",
   "nbconvert_exporter": "python",
   "pygments_lexer": "ipython3",
   "version": "3.12.5"
  }
 },
 "nbformat": 4,
 "nbformat_minor": 5
}
