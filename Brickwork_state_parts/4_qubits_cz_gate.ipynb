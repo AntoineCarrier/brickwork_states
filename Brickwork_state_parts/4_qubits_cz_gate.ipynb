{
 "cells": [
  {
   "cell_type": "code",
   "id": "79c0cd04-0c38-464f-aa1f-3823b9e4b4c2",
   "metadata": {
    "ExecuteTime": {
     "end_time": "2025-07-30T15:51:36.819791Z",
     "start_time": "2025-07-30T15:51:35.984628Z"
    }
   },
   "source": [
    "import quimb.tensor as qtn\n",
    "import numpy as np"
   ],
   "outputs": [],
   "execution_count": 1
  },
  {
   "cell_type": "code",
   "id": "fe1483e9-df71-4804-94ed-938637fe6086",
   "metadata": {
    "ExecuteTime": {
     "end_time": "2025-07-30T15:51:36.822715Z",
     "start_time": "2025-07-30T15:51:36.820828Z"
    }
   },
   "source": [
    "N = 4\n",
    "circ = qtn.Circuit(N)"
   ],
   "outputs": [],
   "execution_count": 2
  },
  {
   "cell_type": "code",
   "id": "918b8350-d18d-4c4f-8383-6341af47d4e8",
   "metadata": {
    "ExecuteTime": {
     "end_time": "2025-07-30T15:51:36.825145Z",
     "start_time": "2025-07-30T15:51:36.823372Z"
    }
   },
   "source": [
    "circ.apply_gate('X',0)\n",
    "circ.apply_gate('X',2)"
   ],
   "outputs": [],
   "execution_count": 3
  },
  {
   "cell_type": "code",
   "id": "2e25581a-e440-4694-a769-dac5ee7a6641",
   "metadata": {
    "ExecuteTime": {
     "end_time": "2025-07-30T15:51:36.828067Z",
     "start_time": "2025-07-30T15:51:36.825935Z"
    }
   },
   "source": [
    "def brickwork_state_init(qtm_circ):\n",
    "    # hamadard on all of the qubits\n",
    "    for i in [0, 2]:#for i in range(4):\n",
    "        qtm_circ.apply_gate('H', i)\n",
    "        #print(np.round(circ.psi.to_qarray(), 10))\n",
    "    # create the entanglement for the brickwork state\n",
    "    qtm_circ.apply_gate('CZ', 0, 1)\n",
    "    qtm_circ.apply_gate('CZ', 2, 3)\n",
    "    qtm_circ.apply_gate('CZ', 0, 2)\n",
    "    return qtm_circ\n",
    "# initiate brickwork state"
   ],
   "outputs": [],
   "execution_count": 4
  },
  {
   "cell_type": "code",
   "id": "1795fbae-6504-4f4a-9eeb-115098e03343",
   "metadata": {
    "ExecuteTime": {
     "end_time": "2025-07-30T15:51:36.838675Z",
     "start_time": "2025-07-30T15:51:36.829589Z"
    }
   },
   "source": [
    "circ = brickwork_state_init(circ)"
   ],
   "outputs": [],
   "execution_count": 5
  },
  {
   "cell_type": "code",
   "id": "9fd9f372-8283-4fdd-8fcc-9953dae673bd",
   "metadata": {
    "ExecuteTime": {
     "end_time": "2025-07-30T15:51:36.842803Z",
     "start_time": "2025-07-30T15:51:36.839686Z"
    }
   },
   "source": [
    "# Build the projector on the plus state to deterministically \"simulate\" measurement of the plus state \n",
    "\n",
    "hadamard_zeroket_zerobra_hadamard = np.matmul(np.matmul(np.array([[1, 1], [1,-1]]), np.array([[1, 0], [0,0]])), np.array([[1, 1], [1,-1]]))\n",
    "proj = 1/2 * hadamard_zeroket_zerobra_hadamard\n",
    "\n",
    "def rotation_z_gate(theta):\n",
    "    rot_z = np.array([[np.exp(-1j*theta), 0],[0, np.exp(1j*theta)]])\n",
    "    return rot_z\n",
    "\n",
    "def z_rot_proj_meas(qubit, theta, qtm_circ):\n",
    "    # Rotate qubit to be measured\n",
    "    z_rot = rotation_z_gate(theta)\n",
    "\n",
    "    # Apply the \"measurement\" projector\n",
    "    qtm_circ.apply_gate(proj, qubit)\n",
    "\n",
    "    # Reormalize the state\n",
    "    state_vector = np.round(qtm_circ.psi.to_qarray(), 10)\n",
    "    ## Compute renormalization factor from the norm of the vector after projective measurement\n",
    "    renorm_factor = np.sqrt(np.dot(state_vector.conj().T, state_vector))\n",
    "    ## Apply renormalization with identity matrix on measured qubit\n",
    "    renorm_matrix = np.array([[1, 0], [0, 1]])* 1/renorm_factor\n",
    "    qtm_circ.apply_gate(renorm_matrix, qubit)\n",
    "\n"
   ],
   "outputs": [],
   "execution_count": 6
  },
  {
   "cell_type": "code",
   "id": "20137a6b-2afa-4b6e-b5e0-1e1e8b9e3197",
   "metadata": {
    "ExecuteTime": {
     "end_time": "2025-07-30T15:51:36.848574Z",
     "start_time": "2025-07-30T15:51:36.843335Z"
    }
   },
   "source": [
    "for qubit in [1, 3]:\n",
    "    z_rot_proj_meas(qubit, 0, circ)"
   ],
   "outputs": [],
   "execution_count": 7
  },
  {
   "cell_type": "code",
   "id": "fc93aea1-ae10-4bc0-87c3-2465eb6a4fc2",
   "metadata": {
    "ExecuteTime": {
     "end_time": "2025-07-30T15:51:36.852437Z",
     "start_time": "2025-07-30T15:51:36.849368Z"
    }
   },
   "source": [
    "print(np.nonzero(np.round(circ.psi.to_qarray(), 10)))"
   ],
   "outputs": [
    {
     "name": "stdout",
     "output_type": "stream",
     "text": [
      "(array([ 0,  1,  2,  3,  4,  5,  6,  7,  8,  9, 10, 11, 12, 13, 14, 15]), array([0, 0, 0, 0, 0, 0, 0, 0, 0, 0, 0, 0, 0, 0, 0, 0]))\n"
     ]
    }
   ],
   "execution_count": 8
  },
  {
   "cell_type": "code",
   "id": "4ddc6e89-0bb8-43bd-bcf6-b4fa45d98220",
   "metadata": {
    "ExecuteTime": {
     "end_time": "2025-07-30T15:51:36.856272Z",
     "start_time": "2025-07-30T15:51:36.853461Z"
    }
   },
   "source": [
    "print(np.round(circ.psi.to_qarray(), 10))"
   ],
   "outputs": [
    {
     "name": "stdout",
     "output_type": "stream",
     "text": [
      "[[ 0.25+0.j]\n",
      " [ 0.25+0.j]\n",
      " [-0.25+0.j]\n",
      " [-0.25+0.j]\n",
      " [ 0.25+0.j]\n",
      " [ 0.25+0.j]\n",
      " [-0.25+0.j]\n",
      " [-0.25+0.j]\n",
      " [-0.25+0.j]\n",
      " [-0.25+0.j]\n",
      " [-0.25+0.j]\n",
      " [-0.25+0.j]\n",
      " [-0.25+0.j]\n",
      " [-0.25+0.j]\n",
      " [-0.25+0.j]\n",
      " [-0.25+0.j]]\n"
     ]
    }
   ],
   "execution_count": 9
  },
  {
   "cell_type": "code",
   "id": "bfe03868-c5bd-4c5b-bf0e-b2e11606bb75",
   "metadata": {
    "ExecuteTime": {
     "end_time": "2025-07-30T15:51:36.861224Z",
     "start_time": "2025-07-30T15:51:36.857098Z"
    }
   },
   "source": [
    "circ.apply_gate('H', 1)\n",
    "circ.apply_gate('H', 3)\n",
    "\n",
    "list = np.nonzero(np.round(circ.psi.to_qarray(), 10))\n",
    "sv =np.round(circ.psi.to_qarray(), 10) #np.round(np.exp(-1j * np.pi/2)*circ.psi.to_qarray(), 10)\n",
    "print(list[0], len(sv))\n",
    "for i in list[0]:\n",
    "    print(sv[i])\n"
   ],
   "outputs": [
    {
     "name": "stdout",
     "output_type": "stream",
     "text": [
      "(array([ 0,  2,  8, 10]), array([0, 0, 0, 0]))\n",
      "[[ 0.5+0.j]\n",
      " [ 0. +0.j]\n",
      " [-0.5+0.j]\n",
      " [ 0. +0.j]\n",
      " [-0. +0.j]\n",
      " [-0. +0.j]\n",
      " [ 0. +0.j]\n",
      " [-0. +0.j]\n",
      " [-0.5+0.j]\n",
      " [-0. +0.j]\n",
      " [-0.5+0.j]\n",
      " [ 0. +0.j]\n",
      " [-0. +0.j]\n",
      " [-0. +0.j]\n",
      " [-0. +0.j]\n",
      " [ 0. +0.j]]\n"
     ]
    }
   ],
   "execution_count": 10
  }
 ],
 "metadata": {
  "kernelspec": {
   "display_name": "Python 3 (ipykernel)",
   "language": "python",
   "name": "python3"
  },
  "language_info": {
   "codemirror_mode": {
    "name": "ipython",
    "version": 3
   },
   "file_extension": ".py",
   "mimetype": "text/x-python",
   "name": "python",
   "nbconvert_exporter": "python",
   "pygments_lexer": "ipython3",
   "version": "3.12.5"
  }
 },
 "nbformat": 4,
 "nbformat_minor": 5
}
