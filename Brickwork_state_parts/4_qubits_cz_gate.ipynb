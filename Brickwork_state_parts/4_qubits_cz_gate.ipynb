{
 "cells": [
  {
   "cell_type": "code",
   "id": "79c0cd04-0c38-464f-aa1f-3823b9e4b4c2",
   "metadata": {
    "ExecuteTime": {
     "end_time": "2025-07-31T02:44:42.455358Z",
     "start_time": "2025-07-31T02:44:41.990207Z"
    }
   },
   "source": [
    "import quimb.tensor as qtn\n",
    "import numpy as np\n",
    "import networkx as nx\n",
    "import matplotlib.pyplot as plt"
   ],
   "outputs": [],
   "execution_count": 21
  },
  {
   "cell_type": "code",
   "id": "fe1483e9-df71-4804-94ed-938637fe6086",
   "metadata": {
    "ExecuteTime": {
     "end_time": "2025-07-30T18:34:27.667120Z",
     "start_time": "2025-07-30T18:34:27.664652Z"
    }
   },
   "source": [
    "N = 4\n",
    "circ = qtn.Circuit(N)"
   ],
   "outputs": [],
   "execution_count": 12
  },
  {
   "metadata": {
    "ExecuteTime": {
     "end_time": "2025-07-31T03:32:39.408495Z",
     "start_time": "2025-07-31T03:32:39.368295Z"
    }
   },
   "cell_type": "code",
   "source": [
    "# Make the graph of the qubits\n",
    "edges = [(0, 1), (2, 3), (0, 2)]\n",
    "G = nx.Graph(edges)\n",
    "\n",
    "# Position the nodes\n",
    "pos = {\n",
    "    0: (0, 0),\n",
    "    1: (1, 0),\n",
    "    2: (0, -1),\n",
    "    3: (1, -1)\n",
    "}\n",
    "subset_b = [1, 3]\n",
    "subset_c = [0, 2]\n",
    "nx.draw_networkx_nodes(G, pos, nodelist=subset_b, node_shape='s', node_color='skyblue', node_size=500)\n",
    "nx.draw_networkx_nodes(G, pos, nodelist=subset_c, node_shape='o', node_color='skyblue', node_size=500)\n",
    "\n",
    "# Draw edges and labels (optional)\n",
    "nx.draw_networkx_edges(G, pos)\n",
    "\n",
    "# Display the plot\n",
    "plt.show()"
   ],
   "id": "21447b9beb3d4b0a",
   "outputs": [
    {
     "data": {
      "text/plain": [
       "<Figure size 640x480 with 1 Axes>"
      ],
      "image/png": "[encoded data removed]"
     },
     "metadata": {},
     "output_type": "display_data"
    }
   ],
   "execution_count": 24
  },
  {
   "cell_type": "code",
   "id": "918b8350-d18d-4c4f-8383-6341af47d4e8",
   "metadata": {
    "ExecuteTime": {
     "end_time": "2025-07-30T18:34:27.670123Z",
     "start_time": "2025-07-30T18:34:27.667736Z"
    }
   },
   "source": [
    "circ.apply_gate('X',0)\n",
    "circ.apply_gate('X',2)"
   ],
   "outputs": [],
   "execution_count": 13
  },
  {
   "cell_type": "code",
   "id": "2e25581a-e440-4694-a769-dac5ee7a6641",
   "metadata": {
    "ExecuteTime": {
     "end_time": "2025-07-30T18:34:27.674298Z",
     "start_time": "2025-07-30T18:34:27.672207Z"
    }
   },
   "source": [
    "def brickwork_state_init(qtm_circ):\n",
    "    # hamadard on all of the qubits\n",
    "    for i in [0, 2]:#for i in range(4):\n",
    "        qtm_circ.apply_gate('H', i)\n",
    "        #print(np.round(circ.psi.to_qarray(), 10))\n",
    "    # create the entanglement for the brickwork state\n",
    "    qtm_circ.apply_gate('CZ', 0, 1)\n",
    "    qtm_circ.apply_gate('CZ', 2, 3)\n",
    "    qtm_circ.apply_gate('CZ', 0, 2)\n",
    "    return qtm_circ\n",
    "# initiate brickwork state"
   ],
   "outputs": [],
   "execution_count": 14
  },
  {
   "cell_type": "code",
   "id": "1795fbae-6504-4f4a-9eeb-115098e03343",
   "metadata": {
    "ExecuteTime": {
     "end_time": "2025-07-30T18:34:27.678493Z",
     "start_time": "2025-07-30T18:34:27.675603Z"
    }
   },
   "source": [
    "circ = brickwork_state_init(circ)"
   ],
   "outputs": [],
   "execution_count": 15
  },
  {
   "cell_type": "code",
   "id": "9fd9f372-8283-4fdd-8fcc-9953dae673bd",
   "metadata": {
    "ExecuteTime": {
     "end_time": "2025-07-30T18:34:27.682641Z",
     "start_time": "2025-07-30T18:34:27.679251Z"
    }
   },
   "source": [
    "# Build the projector on the plus state to deterministically \"simulate\" measurement of the plus state \n",
    "\n",
    "hadamard_zeroket_zerobra_hadamard = np.matmul(np.matmul(np.array([[1, 1], [1,-1]]), np.array([[1, 0], [0,0]])), np.array([[1, 1], [1,-1]]))\n",
    "proj = 1/2 * hadamard_zeroket_zerobra_hadamard\n",
    "\n",
    "def rotation_z_gate(theta):\n",
    "    rot_z = np.array([[np.exp(-1j*theta), 0],[0, np.exp(1j*theta)]])\n",
    "    return rot_z\n",
    "\n",
    "def z_rot_proj_meas(qubit, theta, qtm_circ):\n",
    "    # Rotate qubit to be measured\n",
    "    z_rot = rotation_z_gate(theta)\n",
    "    qtm_circ.apply_gate(z_rot, qubit)\n",
    "    \n",
    "    # Apply the \"measurement\" projector\n",
    "    qtm_circ.apply_gate(proj, qubit)\n",
    "\n",
    "    # Reormalize the state\n",
    "    state_vector = np.round(qtm_circ.psi.to_qarray(), 10)\n",
    "    ## Compute renormalization factor from the norm of the vector after projective measurement\n",
    "    renorm_factor = np.sqrt(np.dot(state_vector.conj().T, state_vector))\n",
    "    ## Apply renormalization with identity matrix on measured qubit\n",
    "    renorm_matrix = np.array([[1, 0], [0, 1]])* 1/renorm_factor\n",
    "    qtm_circ.apply_gate(renorm_matrix, qubit)\n",
    "\n"
   ],
   "outputs": [],
   "execution_count": 16
  },
  {
   "cell_type": "code",
   "id": "20137a6b-2afa-4b6e-b5e0-1e1e8b9e3197",
   "metadata": {
    "ExecuteTime": {
     "end_time": "2025-07-30T18:34:27.688768Z",
     "start_time": "2025-07-30T18:34:27.683284Z"
    }
   },
   "source": [
    "for qubit in [1, 3]:\n",
    "    z_rot_proj_meas(qubit, 0, circ)"
   ],
   "outputs": [],
   "execution_count": 17
  },
  {
   "cell_type": "code",
   "id": "fc93aea1-ae10-4bc0-87c3-2465eb6a4fc2",
   "metadata": {
    "ExecuteTime": {
     "end_time": "2025-07-30T18:34:27.692440Z",
     "start_time": "2025-07-30T18:34:27.689430Z"
    }
   },
   "source": [
    "print(np.nonzero(np.round(circ.psi.to_qarray(), 10)))"
   ],
   "outputs": [
    {
     "name": "stdout",
     "output_type": "stream",
     "text": [
      "(array([ 0,  1,  2,  3,  4,  5,  6,  7,  8,  9, 10, 11, 12, 13, 14, 15]), array([0, 0, 0, 0, 0, 0, 0, 0, 0, 0, 0, 0, 0, 0, 0, 0]))\n"
     ]
    }
   ],
   "execution_count": 18
  },
  {
   "cell_type": "code",
   "id": "4ddc6e89-0bb8-43bd-bcf6-b4fa45d98220",
   "metadata": {
    "ExecuteTime": {
     "end_time": "2025-07-30T18:34:27.695467Z",
     "start_time": "2025-07-30T18:34:27.693071Z"
    }
   },
   "source": [
    "print(np.round(circ.psi.to_qarray(), 10))"
   ],
   "outputs": [
    {
     "name": "stdout",
     "output_type": "stream",
     "text": [
      "[[ 0.25+0.j]\n",
      " [ 0.25+0.j]\n",
      " [-0.25+0.j]\n",
      " [-0.25+0.j]\n",
      " [ 0.25+0.j]\n",
      " [ 0.25+0.j]\n",
      " [-0.25+0.j]\n",
      " [-0.25+0.j]\n",
      " [-0.25+0.j]\n",
      " [-0.25+0.j]\n",
      " [-0.25+0.j]\n",
      " [-0.25+0.j]\n",
      " [-0.25+0.j]\n",
      " [-0.25+0.j]\n",
      " [-0.25+0.j]\n",
      " [-0.25+0.j]]\n"
     ]
    }
   ],
   "execution_count": 19
  },
  {
   "cell_type": "code",
   "id": "bfe03868-c5bd-4c5b-bf0e-b2e11606bb75",
   "metadata": {
    "ExecuteTime": {
     "end_time": "2025-07-30T18:34:27.701292Z",
     "start_time": "2025-07-30T18:34:27.697122Z"
    }
   },
   "source": [
    "circ.apply_gate('H', 1)\n",
    "circ.apply_gate('H', 3)\n",
    "\n",
    "list = np.nonzero(np.round(circ.psi.to_qarray(), 10))\n",
    "sv =np.round(circ.psi.to_qarray(), 10) #np.round(np.exp(-1j * np.pi/2)*circ.psi.to_qarray(), 10)\n",
    "print(list[0], len(sv))\n",
    "for i in list[0]:\n",
    "    print(sv[i])\n"
   ],
   "outputs": [
    {
     "name": "stdout",
     "output_type": "stream",
     "text": [
      "[ 0  2  8 10] 16\n",
      "[0.5+0.j]\n",
      "[-0.5+0.j]\n",
      "[-0.5+0.j]\n",
      "[-0.5+0.j]\n"
     ]
    }
   ],
   "execution_count": 20
  }
 ],
 "metadata": {
  "kernelspec": {
   "display_name": "Python 3 (ipykernel)",
   "language": "python",
   "name": "python3"
  },
  "language_info": {
   "codemirror_mode": {
    "name": "ipython",
    "version": 3
   },
   "file_extension": ".py",
   "mimetype": "text/x-python",
   "name": "python",
   "nbconvert_exporter": "python",
   "pygments_lexer": "ipython3",
   "version": "3.12.5"
  }
 },
 "nbformat": 4,
 "nbformat_minor": 5
}
