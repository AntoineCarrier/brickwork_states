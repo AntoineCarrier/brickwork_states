{
 "cells": [
  {
   "cell_type": "code",
   "id": "7ac5d384-b606-48fb-9371-8d6508eca140",
   "metadata": {
    "ExecuteTime": {
     "end_time": "2025-07-31T02:39:20.848294Z",
     "start_time": "2025-07-31T02:39:19.512935Z"
    }
   },
   "source": [
    "import quimb.tensor as qtn\n",
    "import numpy as np\n",
    "import networkx as nx\n",
    "import matplotlib.pyplot as plt"
   ],
   "outputs": [],
   "execution_count": 47
  },
  {
   "metadata": {
    "ExecuteTime": {
     "end_time": "2025-07-31T03:13:34.823127Z",
     "start_time": "2025-07-31T03:13:34.786820Z"
    }
   },
   "cell_type": "code",
   "source": [
    "# Make the graph of the qubits\n",
    "edges = [(0, 1)]\n",
    "G = nx.Graph(edges)\n",
    "\n",
    "# Position the nodes\n",
    "pos = {\n",
    "    0: (0, 0),\n",
    "    1: (1, 0)\n",
    "}\n",
    "subset_b = [1]\n",
    "subset_c = [0]\n",
    "nx.draw_networkx_nodes(G, pos, nodelist=subset_b, node_shape='s', node_color='skyblue', node_size=500)\n",
    "nx.draw_networkx_nodes(G, pos, nodelist=subset_c, node_shape='o', node_color='skyblue', node_size=500)\n",
    "\n",
    "# Draw edges and labels (optional)\n",
    "nx.draw_networkx_edges(G, pos)\n",
    "# Draw the graph\n",
    "nx.draw(G, pos, with_labels=False, node_color='lightblue', node_size=500)\n",
    "\n",
    "# Display the plot\n",
    "plt.show()"
   ],
   "id": "ed9e8b0312f15e0d",
   "outputs": [
    {
     "data": {
      "text/plain": [
       "<Figure size 640x480 with 1 Axes>"
      ],
      "image/png": "[encoded data removed]"
     },
     "metadata": {},
     "output_type": "display_data"
    }
   ],
   "execution_count": 54
  },
  {
   "cell_type": "code",
   "id": "7b9b6caf-0f09-4843-95d4-228f5c502a51",
   "metadata": {
    "ExecuteTime": {
     "end_time": "2025-07-30T18:33:54.338294Z",
     "start_time": "2025-07-30T18:33:54.335006Z"
    }
   },
   "source": [
    "N = 2 # Number of qubits\n",
    "circ = qtn.Circuit(N)"
   ],
   "outputs": [],
   "execution_count": 38
  },
  {
   "cell_type": "code",
   "id": "2a11a07d-288b-4008-9282-24469b053f86",
   "metadata": {
    "ExecuteTime": {
     "end_time": "2025-07-30T18:33:54.341189Z",
     "start_time": "2025-07-30T18:33:54.339075Z"
    }
   },
   "source": [
    "def two_qubit_brickwork_state_init(qtm_circ):\n",
    "    \"A function to initialize a two qubit Brickwork-like state\"\n",
    "    # Hamadard on qubits on which to propagate the state \n",
    "    for i in [1]:\n",
    "        qtm_circ.apply_gate('H', i)\n",
    "        \n",
    "    # Create the entanglement for the brickwork state\n",
    "    qtm_circ.apply_gate('CZ', 0, 1)\n",
    "    return qtm_circ\n"
   ],
   "outputs": [],
   "execution_count": 39
  },
  {
   "cell_type": "code",
   "id": "cb2f9f18-94da-45b7-8633-5a57faf7a203",
   "metadata": {
    "ExecuteTime": {
     "end_time": "2025-07-30T18:33:54.345797Z",
     "start_time": "2025-07-30T18:33:54.342353Z"
    }
   },
   "source": [
    "# Flip the state to propagate from the first qubit for a better demonstration\n",
    "circ.apply_gate('X',0)\n",
    "\n",
    "# Print the statevector to see the initial state\n",
    "print(np.round(circ.psi.to_qarray(), 10))\n"
   ],
   "outputs": [
    {
     "name": "stdout",
     "output_type": "stream",
     "text": [
      "[[0.+0.j]\n",
      " [0.+0.j]\n",
      " [1.+0.j]\n",
      " [0.+0.j]]\n"
     ]
    }
   ],
   "execution_count": 40
  },
  {
   "cell_type": "code",
   "id": "c1da429e-6e19-4aa7-a8e4-181239a5309e",
   "metadata": {
    "ExecuteTime": {
     "end_time": "2025-07-30T18:33:54.348591Z",
     "start_time": "2025-07-30T18:33:54.346351Z"
    }
   },
   "source": [
    "# Initiate brickwork state\n",
    "circ = two_qubit_brickwork_state_init(circ)"
   ],
   "outputs": [],
   "execution_count": 41
  },
  {
   "cell_type": "code",
   "id": "c4568ce0-c5c2-493b-9a4e-e279fc430bac",
   "metadata": {
    "ExecuteTime": {
     "end_time": "2025-07-30T18:33:54.352052Z",
     "start_time": "2025-07-30T18:33:54.349293Z"
    }
   },
   "source": [
    "# Print the state vector to understand the two qubit brickwork-like state\n",
    "print(np.round(circ.psi.to_qarray(), 10))"
   ],
   "outputs": [
    {
     "name": "stdout",
     "output_type": "stream",
     "text": [
      "[[ 0.      +0.j]\n",
      " [ 0.      +0.j]\n",
      " [ 0.707107+0.j]\n",
      " [-0.707107+0.j]]\n"
     ]
    }
   ],
   "execution_count": 42
  },
  {
   "cell_type": "code",
   "id": "d68ece15-807e-463f-a323-b336362ca9bc",
   "metadata": {
    "ExecuteTime": {
     "end_time": "2025-07-30T18:33:54.356023Z",
     "start_time": "2025-07-30T18:33:54.352682Z"
    }
   },
   "source": [
    "# Build the projector on the plus state to deterministically \"simulate\" measurement of the plus state \n",
    "hadamard_zeroket_zerobra_hadamard = np.matmul(np.matmul(np.array([[1, 1], [1,-1]]), np.array([[1, 0], [0,0]])), np.array([[1, 1], [1,-1]]))\n",
    "proj = 1/2 * hadamard_zeroket_zerobra_hadamard \n",
    "\n",
    "def rotation_z_gate(theta):\n",
    "    rot_z = np.array([[np.exp(-1j*theta), 0],[0, np.exp(1j*theta)]])\n",
    "    return rot_z\n",
    "\n",
    "def z_rot_proj_meas(qubit, theta, qtm_circ):\n",
    "    # Rotate qubit to be measured\n",
    "    z_rot = rotation_z_gate(theta)\n",
    "    qtm_circ.apply_gate(z_rot, qubit)\n",
    "    \n",
    "    # Apply the \"measurement\" projector\n",
    "    qtm_circ.apply_gate(proj, qubit)\n",
    "\n",
    "    # Reormalize the state\n",
    "    state_vector = np.round(qtm_circ.psi.to_qarray(), 10)\n",
    "    ## Compute renormalization factor from the norm of the vector after projective measurement\n",
    "    renorm_factor = np.sqrt(np.dot(state_vector.conj().T, state_vector))\n",
    "    ## Apply renormalization with identity matrix on measured qubit\n",
    "    renorm_matrix = np.array([[1, 0], [0, 1]])* 1/renorm_factor\n",
    "    qtm_circ.apply_gate(renorm_matrix, qubit)\n",
    "    \n",
    "    "
   ],
   "outputs": [],
   "execution_count": 43
  },
  {
   "cell_type": "code",
   "id": "3da3edd8-5625-427e-88e1-bbc531912f45",
   "metadata": {
    "ExecuteTime": {
     "end_time": "2025-07-30T18:33:54.358651Z",
     "start_time": "2025-07-30T18:33:54.356663Z"
    }
   },
   "source": [
    "# Measure the first qubit with a rotation angle of 0 to propagate its state to the second qubit\n",
    "for i in [0]:\n",
    "    z_rot_proj_meas(i, 0, circ)"
   ],
   "outputs": [],
   "execution_count": 44
  },
  {
   "cell_type": "code",
   "id": "e64c830f-f614-46d7-ad0c-6ea4257fc010",
   "metadata": {
    "ExecuteTime": {
     "end_time": "2025-07-30T18:33:54.364533Z",
     "start_time": "2025-07-30T18:33:54.360171Z"
    }
   },
   "source": [
    "# Apply Hadamard corrections\n",
    "## To separate the state of the first qubit in the final state\n",
    "circ.apply_gate('H', 0)\n",
    "## To correct for the number of Hadamards in the protocol\n",
    "circ.apply_gate('H', 1)\n",
    "\n",
    "# Print indices of the nonzero elements in the final statevector to verify \n",
    "# that the initial state of the first qubit has propagated on the second\n",
    "list = np.nonzero(np.round(circ.psi.to_qarray(), 10))\n",
    "sv =np.round(circ.psi.to_qarray(), 10) #np.round(np.exp(-1j * np.pi/2)*circ.psi.to_qarray(), 10)\n",
    "print(list[0], len(sv))\n",
    "\n",
    "for i in list[0]:\n",
    "    print(sv[i])\n"
   ],
   "outputs": [
    {
     "name": "stdout",
     "output_type": "stream",
     "text": [
      "[1] 4\n",
      "[1.+0.j]\n"
     ]
    }
   ],
   "execution_count": 45
  }
 ],
 "metadata": {
  "kernelspec": {
   "display_name": "Python 3 (ipykernel)",
   "language": "python",
   "name": "python3"
  },
  "language_info": {
   "codemirror_mode": {
    "name": "ipython",
    "version": 3
   },
   "file_extension": ".py",
   "mimetype": "text/x-python",
   "name": "python",
   "nbconvert_exporter": "python",
   "pygments_lexer": "ipython3",
   "version": "3.12.5"
  }
 },
 "nbformat": 4,
 "nbformat_minor": 5
}
