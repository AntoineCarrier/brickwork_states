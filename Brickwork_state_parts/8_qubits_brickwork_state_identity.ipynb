{
 "cells": [
  {
   "cell_type": "code",
   "id": "79c0cd04-0c38-464f-aa1f-3823b9e4b4c2",
   "metadata": {
    "ExecuteTime": {
     "end_time": "2025-07-31T03:24:59.143139Z",
     "start_time": "2025-07-31T03:24:58.675914Z"
    }
   },
   "source": [
    "import quimb.tensor as qtn\n",
    "import numpy as np\n",
    "import networkx as nx\n",
    "import matplotlib.pyplot as plt"
   ],
   "outputs": [],
   "execution_count": 8
  },
  {
   "cell_type": "code",
   "id": "fe1483e9-df71-4804-94ed-938637fe6086",
   "metadata": {
    "ExecuteTime": {
     "end_time": "2025-07-30T18:35:07.728305Z",
     "start_time": "2025-07-30T18:35:07.726245Z"
    }
   },
   "source": [
    "N = 8\n",
    "circ = qtn.Circuit(N)"
   ],
   "outputs": [],
   "execution_count": 2
  },
  {
   "metadata": {
    "ExecuteTime": {
     "end_time": "2025-07-31T03:25:00.493365Z",
     "start_time": "2025-07-31T03:25:00.436385Z"
    }
   },
   "cell_type": "code",
   "source": [
    "# Make the graph of the qubits\n",
    "edges = [(0, 1), (1, 2), (2, 3), (4, 5), (5, 6), (6, 7), (1, 5), (3, 7)]\n",
    "G = nx.Graph(edges)\n",
    "\n",
    "# Position the nodes\n",
    "pos = {\n",
    "    0: (0, 0),\n",
    "    1: (1, 0),\n",
    "    2: (2, 0),\n",
    "    3: (3, 0),\n",
    "    4: (0, -1),\n",
    "    5: (1, -1),\n",
    "    6: (2, -1),\n",
    "    7: (3, -1)\n",
    "}\n",
    "\n",
    "# Draw the graph\n",
    "subset_b = [3, 7]\n",
    "subset_c = [0, 1, 2, 4, 5, 6]\n",
    "nx.draw_networkx_nodes(G, pos, nodelist=subset_b, node_shape='s', node_color='skyblue', node_size=500)\n",
    "nx.draw_networkx_nodes(G, pos, nodelist=subset_c, node_shape='o', node_color='skyblue', node_size=500)\n",
    "\n",
    "# Draw edges and labels (optional)\n",
    "nx.draw_networkx_edges(G, pos)\n",
    "#nx.draw(G, pos, with_labels=False, node_color='lightblue', node_size=500)\n",
    "\n",
    "# Display the plot\n",
    "plt.show()"
   ],
   "id": "3f93543c7b17e77a",
   "outputs": [
    {
     "data": {
      "text/plain": [
       "<Figure size 640x480 with 1 Axes>"
      ],
      "image/png": "[encoded data removed]"
     },
     "metadata": {},
     "output_type": "display_data"
    }
   ],
   "execution_count": 9
  },
  {
   "cell_type": "code",
   "id": "ba7bc337-9221-4bfd-a230-34c127e7717d",
   "metadata": {
    "ExecuteTime": {
     "end_time": "2025-07-30T18:35:07.730781Z",
     "start_time": "2025-07-30T18:35:07.728855Z"
    }
   },
   "source": [
    "def brickwork_state_init(qtm_circ):\n",
    "    for i in [1, 2, 3, 5, 6, 7]:\n",
    "        qtm_circ.apply_gate('H', i)\n",
    "    # create the entanglement for the brickwork state\n",
    "    circ.apply_gate('CZ', 0, 1)\n",
    "    circ.apply_gate('CZ', 1, 2)\n",
    "    circ.apply_gate('CZ', 2, 3)\n",
    "    \n",
    "    circ.apply_gate('CZ', 4, 5)\n",
    "    circ.apply_gate('CZ', 5, 6)\n",
    "    circ.apply_gate('CZ', 6, 7)\n",
    "\n",
    "    circ.apply_gate('CZ', 1, 5)\n",
    "    circ.apply_gate('CZ', 3, 7)\n",
    "    return qtm_circ\n"
   ],
   "outputs": [],
   "execution_count": 3
  },
  {
   "cell_type": "code",
   "id": "2d4768a9-3cd3-41e8-bf87-c0d6bc9522b5",
   "metadata": {
    "ExecuteTime": {
     "end_time": "2025-07-30T18:35:07.741511Z",
     "start_time": "2025-07-30T18:35:07.731902Z"
    }
   },
   "source": [
    "#circ.apply_gate('X',0)\n",
    "circ.apply_gate('X',4)\n",
    "\n",
    "# initiate brickwork state\n",
    "circ = brickwork_state_init(circ)"
   ],
   "outputs": [],
   "execution_count": 4
  },
  {
   "cell_type": "code",
   "id": "7cefc677-1948-4289-a4f8-f04c3b939a35",
   "metadata": {
    "ExecuteTime": {
     "end_time": "2025-07-30T18:35:07.744937Z",
     "start_time": "2025-07-30T18:35:07.742103Z"
    }
   },
   "source": [
    "# Build the projector on the plus state to deterministically \"simulate\" measurement of the plus state \n",
    "\n",
    "hadamard_zeroket_zerobra_hadamard = np.matmul(np.matmul(np.array([[1, 1], [1,-1]]), np.array([[1, 0], [0,0]])), np.array([[1, 1], [1,-1]]))\n",
    "proj = 1/2 * hadamard_zeroket_zerobra_hadamard\n",
    "\n",
    "def rotation_z_gate(theta):\n",
    "    rot_z = np.array([[np.exp(-1j*theta), 0],[0, np.exp(1j*theta)]])\n",
    "    return rot_z\n",
    "\n",
    "def z_rot_proj_meas(qubit, theta, qtm_circ):\n",
    "    # Rotate qubit to be measured\n",
    "    z_rot = rotation_z_gate(theta)\n",
    "    qtm_circ.apply_gate(z_rot, qubit)\n",
    "    \n",
    "    # Apply the \"measurement\" projector\n",
    "    qtm_circ.apply_gate(proj, qubit)\n",
    "\n",
    "    # Reormalize the state\n",
    "    state_vector = np.round(qtm_circ.psi.to_qarray(), 10)\n",
    "    ## Compute renormalization factor from the norm of the vector after projective measurement\n",
    "    renorm_factor = np.sqrt(np.dot(state_vector.conj().T, state_vector))\n",
    "    ## Apply renormalization with identity matrix on measured qubit\n",
    "    renorm_matrix = np.array([[1, 0], [0, 1]])* 1/renorm_factor\n",
    "    qtm_circ.apply_gate(renorm_matrix, qubit)\n"
   ],
   "outputs": [],
   "execution_count": 5
  },
  {
   "cell_type": "code",
   "id": "ecb7c64e-7b9c-47dd-9600-65df7e932108",
   "metadata": {
    "ExecuteTime": {
     "end_time": "2025-07-30T18:35:07.758902Z",
     "start_time": "2025-07-30T18:35:07.745564Z"
    }
   },
   "source": [
    "for qubit in [0, 4, 1, 5, 2, 6]:\n",
    "    z_rot_proj_meas(qubit, 0, circ)"
   ],
   "outputs": [],
   "execution_count": 6
  },
  {
   "cell_type": "code",
   "id": "662bb8b4-eb6a-485f-a57e-b13274be66cf",
   "metadata": {
    "ExecuteTime": {
     "end_time": "2025-07-30T18:35:07.766257Z",
     "start_time": "2025-07-30T18:35:07.759707Z"
    }
   },
   "source": [
    "circ.apply_gate('H', 0)\n",
    "circ.apply_gate('H', 4)\n",
    "circ.apply_gate('H', 1)\n",
    "circ.apply_gate('H', 5)\n",
    "circ.apply_gate('H', 2)\n",
    "circ.apply_gate('H', 6)\n",
    "circ.apply_gate('H', 3)\n",
    "circ.apply_gate('H', 7)\n",
    "\n",
    "list = np.nonzero(np.round(circ.psi.to_qarray(), 10))\n",
    "sv =np.round(circ.psi.to_qarray(), 10) #np.round(np.exp(-1j * np.pi/2)*circ.psi.to_qarray(), 10)\n",
    "print(list[0], len(sv))\n",
    "for i in list[0]:\n",
    "    print(sv[i])"
   ],
   "outputs": [
    {
     "name": "stdout",
     "output_type": "stream",
     "text": [
      "[1] 256\n",
      "[1.+0.j]\n"
     ]
    }
   ],
   "execution_count": 7
  }
 ],
 "metadata": {
  "kernelspec": {
   "display_name": "Python 3 (ipykernel)",
   "language": "python",
   "name": "python3"
  },
  "language_info": {
   "codemirror_mode": {
    "name": "ipython",
    "version": 3
   },
   "file_extension": ".py",
   "mimetype": "text/x-python",
   "name": "python",
   "nbconvert_exporter": "python",
   "pygments_lexer": "ipython3",
   "version": "3.12.5"
  }
 },
 "nbformat": 4,
 "nbformat_minor": 5
}
