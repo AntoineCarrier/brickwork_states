{
 "cells": [
  {
   "cell_type": "code",
   "id": "7ac5d384-b606-48fb-9371-8d6508eca140",
   "metadata": {
    "ExecuteTime": {
     "end_time": "2025-07-30T15:56:22.438360Z",
     "start_time": "2025-07-30T15:56:22.436062Z"
    }
   },
   "source": [
    "import quimb.tensor as qtn\n",
    "import numpy as np"
   ],
   "outputs": [],
   "execution_count": 13
  },
  {
   "cell_type": "code",
   "id": "7b9b6caf-0f09-4843-95d4-228f5c502a51",
   "metadata": {
    "ExecuteTime": {
     "end_time": "2025-07-30T15:56:22.446373Z",
     "start_time": "2025-07-30T15:56:22.444411Z"
    }
   },
   "source": [
    "N = 3\n",
    "circ = qtn.Circuit(N)"
   ],
   "outputs": [],
   "execution_count": 14
  },
  {
   "metadata": {
    "ExecuteTime": {
     "end_time": "2025-07-30T15:56:22.449650Z",
     "start_time": "2025-07-30T15:56:22.447463Z"
    }
   },
   "cell_type": "code",
   "source": [
    "def brickwork_state_init(qtm_circ):\n",
    "    for i in range(1, 3):\n",
    "        qtm_circ.apply_gate('H', i)\n",
    "    # create the entanglement for the brickwork state\n",
    "    qtm_circ.apply_gate('CZ', 0, 1)\n",
    "    qtm_circ.apply_gate('CZ', 1, 2)\n",
    "    return qtm_circ\n",
    "# initiate brickwork state"
   ],
   "id": "2a11a07d-288b-4008-9282-24469b053f86",
   "outputs": [],
   "execution_count": 15
  },
  {
   "cell_type": "code",
   "id": "cb2f9f18-94da-45b7-8633-5a57faf7a203",
   "metadata": {
    "ExecuteTime": {
     "end_time": "2025-07-30T15:56:22.451862Z",
     "start_time": "2025-07-30T15:56:22.450276Z"
    }
   },
   "source": [
    "# Flip state of the first qubit for a more interesting demonstration \n",
    "circ.apply_gate('X',0) "
   ],
   "outputs": [],
   "execution_count": 16
  },
  {
   "cell_type": "code",
   "id": "b6073cef-2e80-4900-bde6-edfb951ceafd",
   "metadata": {
    "ExecuteTime": {
     "end_time": "2025-07-30T15:56:22.455489Z",
     "start_time": "2025-07-30T15:56:22.453137Z"
    }
   },
   "source": [
    "print(np.round(circ.psi.to_qarray(), 10))"
   ],
   "outputs": [
    {
     "name": "stdout",
     "output_type": "stream",
     "text": [
      "[[0.+0.j]\n",
      " [0.+0.j]\n",
      " [0.+0.j]\n",
      " [0.+0.j]\n",
      " [1.+0.j]\n",
      " [0.+0.j]\n",
      " [0.+0.j]\n",
      " [0.+0.j]]\n"
     ]
    }
   ],
   "execution_count": 17
  },
  {
   "cell_type": "code",
   "id": "c1da429e-6e19-4aa7-a8e4-181239a5309e",
   "metadata": {
    "ExecuteTime": {
     "end_time": "2025-07-30T15:56:22.458290Z",
     "start_time": "2025-07-30T15:56:22.455988Z"
    }
   },
   "source": [
    "circ = brickwork_state_init(circ)"
   ],
   "outputs": [],
   "execution_count": 18
  },
  {
   "cell_type": "code",
   "id": "c4568ce0-c5c2-493b-9a4e-e279fc430bac",
   "metadata": {
    "ExecuteTime": {
     "end_time": "2025-07-30T15:56:22.460768Z",
     "start_time": "2025-07-30T15:56:22.458831Z"
    }
   },
   "source": [
    "print(np.round(circ.psi.to_qarray(), 10))"
   ],
   "outputs": [
    {
     "name": "stdout",
     "output_type": "stream",
     "text": [
      "[[ 0. +0.j]\n",
      " [ 0. +0.j]\n",
      " [ 0. +0.j]\n",
      " [ 0. +0.j]\n",
      " [ 0.5+0.j]\n",
      " [ 0.5+0.j]\n",
      " [-0.5+0.j]\n",
      " [ 0.5+0.j]]\n"
     ]
    }
   ],
   "execution_count": 19
  },
  {
   "cell_type": "code",
   "id": "d68ece15-807e-463f-a323-b336362ca9bc",
   "metadata": {
    "ExecuteTime": {
     "end_time": "2025-07-30T15:56:22.464269Z",
     "start_time": "2025-07-30T15:56:22.461370Z"
    }
   },
   "source": [
    "# Build the projector on the plus state to deterministically \"simulate\" measurement of the plus state \n",
    "\n",
    "hadamard_zeroket_zerobra_hadamard = np.matmul(np.matmul(np.array([[1, 1], [1,-1]]), np.array([[1, 0], [0,0]])), np.array([[1, 1], [1,-1]]))\n",
    "proj = 1/2 * hadamard_zeroket_zerobra_hadamard\n",
    "\n",
    "def rotation_z_gate(theta):\n",
    "    rot_z = np.array([[np.exp(-1j*theta), 0],[0, np.exp(1j*theta)]])\n",
    "    return rot_z\n",
    "\n",
    "def z_rot_proj_meas(qubit, theta, qtm_circ):\n",
    "    # Rotate qubit to be measured\n",
    "    z_rot = rotation_z_gate(theta)\n",
    "\n",
    "    # Apply the \"measurement\" projector\n",
    "    qtm_circ.apply_gate(proj, qubit)\n",
    "\n",
    "    # Reormalize the state\n",
    "    state_vector = np.round(qtm_circ.psi.to_qarray(), 10)\n",
    "    ## Compute renormalization factor from the norm of the vector after projective measurement\n",
    "    renorm_factor = np.sqrt(np.dot(state_vector.conj().T, state_vector))\n",
    "    ## Apply renormalization with identity matrix on measured qubit\n",
    "    renorm_matrix = np.array([[1, 0], [0, 1]])* 1/renorm_factor\n",
    "    qtm_circ.apply_gate(renorm_matrix, qubit)\n",
    "\n"
   ],
   "outputs": [],
   "execution_count": 20
  },
  {
   "cell_type": "code",
   "id": "3da3edd8-5625-427e-88e1-bbc531912f45",
   "metadata": {
    "ExecuteTime": {
     "end_time": "2025-07-30T15:56:22.467574Z",
     "start_time": "2025-07-30T15:56:22.464988Z"
    }
   },
   "source": [
    "for i in [0, 1]:\n",
    "    z_rot_proj_meas(i, 0, circ)"
   ],
   "outputs": [],
   "execution_count": 21
  },
  {
   "cell_type": "code",
   "id": "e64c830f-f614-46d7-ad0c-6ea4257fc010",
   "metadata": {
    "ExecuteTime": {
     "end_time": "2025-07-30T15:56:22.471637Z",
     "start_time": "2025-07-30T15:56:22.468280Z"
    }
   },
   "source": [
    "circ.apply_gate('H', 0)\n",
    "circ.apply_gate('H', 1)\n",
    "\n",
    "list = np.nonzero(np.round(circ.psi.to_qarray(), 10))\n",
    "sv =np.round(circ.psi.to_qarray(), 10) #np.round(np.exp(-1j * np.pi/2)*circ.psi.to_qarray(), 10)\n",
    "print(list[0], len(sv))\n",
    "\n",
    "for i in list[0]:\n",
    "    print(sv[i])\n"
   ],
   "outputs": [
    {
     "name": "stdout",
     "output_type": "stream",
     "text": [
      "[1] 8\n",
      "[1.+0.j]\n"
     ]
    }
   ],
   "execution_count": 22
  }
 ],
 "metadata": {
  "kernelspec": {
   "display_name": "Python 3 (ipykernel)",
   "language": "python",
   "name": "python3"
  },
  "language_info": {
   "codemirror_mode": {
    "name": "ipython",
    "version": 3
   },
   "file_extension": ".py",
   "mimetype": "text/x-python",
   "name": "python",
   "nbconvert_exporter": "python",
   "pygments_lexer": "ipython3",
   "version": "3.12.5"
  }
 },
 "nbformat": 4,
 "nbformat_minor": 5
}
